{
  "nbformat": 4,
  "nbformat_minor": 0,
  "metadata": {
    "colab": {
      "provenance": [],
      "gpuType": "T4",
      "cell_execution_strategy": "setup",
      "authorship_tag": "ABX9TyM2B2xkKE45tC3px5GY5VKr",
      "include_colab_link": true
    },
    "kernelspec": {
      "name": "python3",
      "display_name": "Python 3"
    },
    "language_info": {
      "name": "python"
    },
    "accelerator": "GPU"
  },
  "cells": [
    {
      "cell_type": "markdown",
      "metadata": {
        "id": "view-in-github",
        "colab_type": "text"
      },
      "source": [
        "<a href=\"https://colab.research.google.com/github/brayanmezac/NPL-shop-pet/blob/main/modelo_npl.ipynb\" target=\"_parent\"><img src=\"https://colab.research.google.com/assets/colab-badge.svg\" alt=\"Open In Colab\"/></a>"
      ]
    },
    {
      "cell_type": "code",
      "source": [
        "### make sure that CUDA is available in Edit -> Nootbook settings -> GPU\n",
        "!nvidia-smi --query-gpu=name,memory.total,memory.free --format=csv,noheader"
      ],
      "metadata": {
        "id": "CWUhVFVqPnnm"
      },
      "execution_count": null,
      "outputs": []
    },
    {
      "cell_type": "code",
      "source": [
        "# @title Instalar dependencias 🗒️\n",
        "%%capture\n",
        "!git clone https://github.com/brayanmezac/NPL-shop-pet.git\n",
        "!cd NPL-shop-pet && pip install -r requirements.txt"
      ],
      "metadata": {
        "id": "d2zrA1fdrCYO"
      },
      "execution_count": null,
      "outputs": []
    },
    {
      "cell_type": "code",
      "source": [
        "# @title Entrenar modelo🦾\n",
        "%%capture\n",
        "!cd NPL-shop-pet && python training.py"
      ],
      "metadata": {
        "id": "ehH8xWacED7z"
      },
      "execution_count": null,
      "outputs": []
    },
    {
      "cell_type": "code",
      "source": [
        "# @title Correr modelo 🤖\n",
        "!cd NPL-shop-pet && python chatbot_gradio.py"
      ],
      "metadata": {
        "id": "pMBP3PRbEVuD"
      },
      "execution_count": null,
      "outputs": []
    }
  ]
}